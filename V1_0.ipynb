{
  "cells": [
    {
      "cell_type": "code",
      "execution_count": 20,
      "metadata": {
        "id": "29c8a855"
      },
      "outputs": [],
      "source": [],
      "id": "29c8a855"
    },
    {
      "cell_type": "markdown",
      "metadata": {
        "id": "a9411e08"
      },
      "source": [
        "-------\n",
        "# Dataset Loading"
      ],
      "id": "a9411e08"
    },
    {
      "cell_type": "code",
      "execution_count": 21,
      "metadata": {
        "colab": {
          "base_uri": "https://localhost:8080/"
        },
        "id": "QNbxFhFhyovY",
        "outputId": "47a34e65-63f2-4340-dfc4-3ce8454299c7"
      },
      "outputs": [
        {
          "output_type": "stream",
          "name": "stdout",
          "text": [
            "Mounted at /content/drive\n"
          ]
        }
      ],
      "source": [
        "# Setting up google drive \n",
        "from google.colab import drive\n",
        "drive.mount('/content/drive', force_remount=True)\n",
        "import sys\n",
        "sys.path.append('/content/drive/My Drive/Colab Notebooks')"
      ],
      "id": "QNbxFhFhyovY"
    },
    {
      "cell_type": "code",
      "execution_count": 22,
      "metadata": {
        "id": "cbc577db"
      },
      "outputs": [],
      "source": [
        "import torch\n",
        "from torch import nn\n",
        "from IPython import display\n",
        "import my_utils as mu"
      ],
      "id": "cbc577db"
    },
    {
      "cell_type": "code",
      "execution_count": 23,
      "metadata": {
        "colab": {
          "base_uri": "https://localhost:8080/"
        },
        "id": "VWiPS1ePxEUY",
        "outputId": "c1d1e8e4-14bb-4170-d6a0-be8ff6b18bf7"
      },
      "outputs": [
        {
          "output_type": "stream",
          "name": "stdout",
          "text": [
            "Files already downloaded and verified\n",
            "Files already downloaded and verified\n"
          ]
        }
      ],
      "source": [
        "from torchvision import datasets \n",
        "import torchvision.transforms as transforms\n",
        "from torch.utils.data import TensorDataset, DataLoader\n",
        "\n",
        "batch_size = 256\n",
        "\n",
        "transform_1 = transforms.Compose([\n",
        "    transforms.ToTensor(),\n",
        "])\n",
        "\n",
        "cifar_trainset = datasets.CIFAR10(root='./data', train=True, download=True, transform=transform_1)\n",
        "cifar_testset = datasets.CIFAR10(root='./data', train=False, download=True, transform=transform_1)\n",
        "\n",
        "trainDL = DataLoader(cifar_trainset, batch_size, shuffle=True)\n",
        "testDL = DataLoader(cifar_testset, batch_size, shuffle=True)\n",
        "\n",
        "# print(cifar_trainset)"
      ],
      "id": "VWiPS1ePxEUY"
    },
    {
      "cell_type": "code",
      "execution_count": 24,
      "metadata": {
        "id": "R-PRFSqNyFYb",
        "colab": {
          "base_uri": "https://localhost:8080/"
        },
        "outputId": "a31367ba-2206-4ef6-8a54-4c421ec80792"
      },
      "outputs": [
        {
          "output_type": "stream",
          "name": "stdout",
          "text": [
            "torch.Size([256, 3, 32, 32])\n"
          ]
        }
      ],
      "source": [
        "print(next(iter(trainDL))[0].shape)"
      ],
      "id": "R-PRFSqNyFYb"
    },
    {
      "cell_type": "markdown",
      "metadata": {
        "id": "d8fd7575"
      },
      "source": [
        "------\n",
        "# Model & Weight Initialisation"
      ],
      "id": "d8fd7575"
    },
    {
      "cell_type": "code",
      "execution_count": 50,
      "metadata": {
        "id": "e6e4c781"
      },
      "outputs": [],
      "source": [
        "class KKNet(torch.nn.Module):\n",
        "    def __init__(self, num_inputs=3*32*32, num_channels=3, num_outputs=10, num_hidden=[15]):\n",
        "        super(KKNet, self).__init__()\n",
        "        \n",
        "        self.num_inputs, self.num_channels, self.num_outputs, self.num_hidden = num_inputs, num_channels, num_outputs, num_hidden\n",
        "\n",
        "        self.relu = nn.ReLU()\n",
        "\n",
        "        #### Backbone 1\n",
        "\n",
        "        self.a1 = nn.AvgPool2d(3)\n",
        "        self.l1 = nn.Linear(3*10*10, self.num_hidden[0])\n",
        "\n",
        "        self.conv1 = nn.Conv2d(3, self.num_hidden[0], kernel_size = 5)\n",
        "\n",
        "        #### Backbone 2\n",
        "\n",
        "        # self.a2 = nn.AvgPool2d(2)\n",
        "        # self.l2 = nn.Linear(num_hidden[0]*14*14, self.num_hidden[1])\n",
        "\n",
        "        # self.conv2 = nn.Conv2d(self.num_hidden[0], self.num_hidden[1], kernel_size = 5)\n",
        "\n",
        "        ##### Classifier\n",
        "\n",
        "        self.ac = nn.AvgPool2d(3)\n",
        "\n",
        "        self.f = nn.Flatten()\n",
        "\n",
        "        self.lc1 = nn.Linear(1215, 550)\n",
        "        self.lc2 = nn.Linear(550, 350)\n",
        "        self.lc3 = nn.Linear(350, 120)\n",
        "        self.lc4 = nn.Linear(120, self.num_outputs)\n",
        "\n",
        "    def forward(self, x):\n",
        "\n",
        "\n",
        "        #### Backbone 1\n",
        "\n",
        "        out11 = self.a1(x)\n",
        "        out11 = out11.view(-1,3*10*10)\n",
        "        out11 = self.l1(out11)\n",
        "        out11 = self.relu(out11)\n",
        "        out11 = out11.view(-1,self.num_hidden[0],1,1,1)\n",
        "\n",
        "        conv1_outputs = []\n",
        "        for _ in range(self.num_hidden[0]):\n",
        "            o = self.conv1(x)\n",
        "            o = self.relu(o)\n",
        "            conv1_outputs.append(o)\n",
        "        out12 = torch.stack(conv1_outputs, dim=1)\n",
        "\n",
        "        out12 = out11*out12\n",
        "\n",
        "        out1 = out12.sum(dim=1)\n",
        "\n",
        "        #### Backbone 2\n",
        "\n",
        "        # out21 = self.a2( out1 )\n",
        "        # out21 = out21.view(-1,self.num_hidden[0]*14*14)\n",
        "        # out21 = self.l2(out21)\n",
        "        # out21 = self.relu(out21)\n",
        "        # out21 = out21.view(-1,self.num_hidden[1],1,1,1)\n",
        "\n",
        "        # conv2_outputs = []\n",
        "        # for _ in range(self.num_hidden[1]):\n",
        "        #     o = self.conv2( out1 )\n",
        "        #     o = self.relu(o)\n",
        "        #     conv2_outputs.append(o)\n",
        "        # out22 = torch.stack(conv2_outputs, dim=1)\n",
        "\n",
        "        # out22 = out21*out22\n",
        "\n",
        "        # out2 = out22.sum(dim=1)\n",
        "\n",
        "        \n",
        "        ##### Classifier\n",
        "\n",
        "        outC = out1\n",
        "        outC = self.ac(outC)\n",
        "\n",
        "        outC = self.f(outC)\n",
        "        # print(\"C\", outC.shape)\n",
        "        outC = self.lc1(outC)\n",
        "        outC = self.relu(outC)\n",
        "        outC = self.lc2(outC)\n",
        "        outC = self.relu(outC)\n",
        "        outC = self.lc3(outC)\n",
        "        outC = self.relu(outC)\n",
        "        outC = self.lc4(outC)\n",
        "\n",
        "        return outC\n"
      ],
      "id": "e6e4c781"
    },
    {
      "cell_type": "code",
      "source": [
        "def init_weights(m):\n",
        "    if type(m) == nn.Linear or type(m) == nn.Conv2d: # by checking thr type we can init different layers in different ways\n",
        "        torch.nn.init.xavier_uniform_(m.weight)          "
      ],
      "metadata": {
        "id": "pUmR9oqJfvdL"
      },
      "id": "pUmR9oqJfvdL",
      "execution_count": 26,
      "outputs": []
    },
    {
      "cell_type": "code",
      "execution_count": 51,
      "metadata": {
        "id": "G1PEIcYqjzwQ",
        "colab": {
          "base_uri": "https://localhost:8080/"
        },
        "outputId": "ea39f3a0-5d60-43f3-85f4-86ca526f9ab6"
      },
      "outputs": [
        {
          "output_type": "stream",
          "name": "stdout",
          "text": [
            "torch.Size([256, 10])\n"
          ]
        }
      ],
      "source": [
        "debug = True\n",
        "x3,y3 = next(iter(trainDL))\n",
        "\n",
        "num_inputs = 3*32*32\n",
        "num_outputs = 10\n",
        "num_channels = 3\n",
        "\n",
        "# x3,y3 = next(iter(train_iter))\n",
        "# print(x3.size(), y3.size())\n",
        "\n",
        "inp = torch.rand(256,3,32,32)\n",
        "# print(inp.dtype)\n",
        "# print(inp.shape)\n",
        "\n",
        "num_inputs = 3\n",
        "# model = Net(num_inputs, num_outputs)\n",
        "model = KKNet()\n",
        "\n",
        "\n",
        "# model = Net(num_inputs, num_channels, num_outputs)\n",
        "\n",
        "model.apply(init_weights)\n",
        "\n",
        "a = model.forward(inp)\n",
        "\n",
        "print(a.shape)\n"
      ],
      "id": "G1PEIcYqjzwQ"
    },
    {
      "cell_type": "code",
      "source": [
        "debug = False\n",
        "input_channels = 3\n",
        "num_outputs = 10\n",
        "modelKK = KKNet()\n",
        "\n",
        "modelKK.apply(init_weights);\n",
        "print(modelKK)\n",
        "\n",
        "loss = nn.CrossEntropyLoss()\n",
        "lr = 0.1\n",
        "optimizer = torch.optim.SGD(modelKK.parameters(), lr=lr)\n",
        "\n",
        "num_epochs = 20\n",
        "mu.train_ch3(modelKK, trainDL, testDL, loss, num_epochs, optimizer)"
      ],
      "metadata": {
        "colab": {
          "base_uri": "https://localhost:8080/",
          "height": 810
        },
        "id": "Ch3Yigg9UDIN",
        "outputId": "3ab4e780-9be6-4de8-da87-4139b9770be3"
      },
      "id": "Ch3Yigg9UDIN",
      "execution_count": null,
      "outputs": [
        {
          "output_type": "display_data",
          "data": {
            "text/plain": [
              "<Figure size 1008x720 with 1 Axes>"
            ],
            "image/svg+xml": "<?xml version=\"1.0\" encoding=\"utf-8\" standalone=\"no\"?>\n<!DOCTYPE svg PUBLIC \"-//W3C//DTD SVG 1.1//EN\"\n  \"http://www.w3.org/Graphics/SVG/1.1/DTD/svg11.dtd\">\n<svg xmlns:xlink=\"http://www.w3.org/1999/xlink\" width=\"829.635937pt\" height=\"592.155469pt\" viewBox=\"0 0 829.635937 592.155469\" xmlns=\"http://www.w3.org/2000/svg\" version=\"1.1\">\n <metadata>\n  <rdf:RDF xmlns:dc=\"http://purl.org/dc/elements/1.1/\" xmlns:cc=\"http://creativecommons.org/ns#\" xmlns:rdf=\"http://www.w3.org/1999/02/22-rdf-syntax-ns#\">\n   <cc:Work>\n    <dc:type rdf:resource=\"http://purl.org/dc/dcmitype/StillImage\"/>\n    <dc:date>2023-03-29T05:57:45.726282</dc:date>\n    <dc:format>image/svg+xml</dc:format>\n    <dc:creator>\n     <cc:Agent>\n      <dc:title>Matplotlib v3.7.1, https://matplotlib.org/</dc:title>\n     </cc:Agent>\n    </dc:creator>\n   </cc:Work>\n  </rdf:RDF>\n </metadata>\n <defs>\n  <style type=\"text/css\">*{stroke-linejoin: round; stroke-linecap: butt}</style>\n </defs>\n <g id=\"figure_1\">\n  <g id=\"patch_1\">\n   <path d=\"M 0 592.155469 \nL 829.635937 592.155469 \nL 829.635937 0 \nL 0 0 \nL 0 592.155469 \nz\n\" style=\"fill: none\"/>\n  </g>\n  <g id=\"axes_1\">\n   <g id=\"patch_2\">\n    <path d=\"M 30.103125 554.599219 \nL 811.303125 554.599219 \nL 811.303125 10.999219 \nL 30.103125 10.999219 \nz\n\" style=\"fill: #ffffff\"/>\n   </g>\n   <g id=\"matplotlib.axis_1\">\n    <g id=\"xtick_1\">\n     <g id=\"line2d_1\">\n      <path d=\"M 91.776809 554.599219 \nL 91.776809 10.999219 \n\" clip-path=\"url(#p1cce78bef9)\" style=\"fill: none; stroke: #b0b0b0; stroke-width: 0.8; stroke-linecap: square\"/>\n     </g>\n     <g id=\"line2d_2\">\n      <defs>\n       <path id=\"m23e2672bc9\" d=\"M 0 0 \nL 0 3.5 \n\" style=\"stroke: #000000; stroke-width: 0.8\"/>\n      </defs>\n      <g>\n       <use xlink:href=\"#m23e2672bc9\" x=\"91.776809\" y=\"554.599219\" style=\"stroke: #000000; stroke-width: 0.8\"/>\n      </g>\n     </g>\n     <g id=\"text_1\">\n      <!-- 2.5 -->\n      <g transform=\"translate(83.825247 569.197656) scale(0.1 -0.1)\">\n       <defs>\n        <path id=\"DejaVuSans-32\" d=\"M 1228 531 \nL 3431 531 \nL 3431 0 \nL 469 0 \nL 469 531 \nQ 828 903 1448 1529 \nQ 2069 2156 2228 2338 \nQ 2531 2678 2651 2914 \nQ 2772 3150 2772 3378 \nQ 2772 3750 2511 3984 \nQ 2250 4219 1831 4219 \nQ 1534 4219 1204 4116 \nQ 875 4013 500 3803 \nL 500 4441 \nQ 881 4594 1212 4672 \nQ 1544 4750 1819 4750 \nQ 2544 4750 2975 4387 \nQ 3406 4025 3406 3419 \nQ 3406 3131 3298 2873 \nQ 3191 2616 2906 2266 \nQ 2828 2175 2409 1742 \nQ 1991 1309 1228 531 \nz\n\" transform=\"scale(0.015625)\"/>\n        <path id=\"DejaVuSans-2e\" d=\"M 684 794 \nL 1344 794 \nL 1344 0 \nL 684 0 \nL 684 794 \nz\n\" transform=\"scale(0.015625)\"/>\n        <path id=\"DejaVuSans-35\" d=\"M 691 4666 \nL 3169 4666 \nL 3169 4134 \nL 1269 4134 \nL 1269 2991 \nQ 1406 3038 1543 3061 \nQ 1681 3084 1819 3084 \nQ 2600 3084 3056 2656 \nQ 3513 2228 3513 1497 \nQ 3513 744 3044 326 \nQ 2575 -91 1722 -91 \nQ 1428 -91 1123 -41 \nQ 819 9 494 109 \nL 494 744 \nQ 775 591 1075 516 \nQ 1375 441 1709 441 \nQ 2250 441 2565 725 \nQ 2881 1009 2881 1497 \nQ 2881 1984 2565 2268 \nQ 2250 2553 1709 2553 \nQ 1456 2553 1204 2497 \nQ 953 2441 691 2322 \nL 691 4666 \nz\n\" transform=\"scale(0.015625)\"/>\n       </defs>\n       <use xlink:href=\"#DejaVuSans-32\"/>\n       <use xlink:href=\"#DejaVuSans-2e\" x=\"63.623047\"/>\n       <use xlink:href=\"#DejaVuSans-35\" x=\"95.410156\"/>\n      </g>\n     </g>\n    </g>\n    <g id=\"xtick_2\">\n     <g id=\"line2d_3\">\n      <path d=\"M 194.566283 554.599219 \nL 194.566283 10.999219 \n\" clip-path=\"url(#p1cce78bef9)\" style=\"fill: none; stroke: #b0b0b0; stroke-width: 0.8; stroke-linecap: square\"/>\n     </g>\n     <g id=\"line2d_4\">\n      <g>\n       <use xlink:href=\"#m23e2672bc9\" x=\"194.566283\" y=\"554.599219\" style=\"stroke: #000000; stroke-width: 0.8\"/>\n      </g>\n     </g>\n     <g id=\"text_2\">\n      <!-- 5.0 -->\n      <g transform=\"translate(186.61472 569.197656) scale(0.1 -0.1)\">\n       <defs>\n        <path id=\"DejaVuSans-30\" d=\"M 2034 4250 \nQ 1547 4250 1301 3770 \nQ 1056 3291 1056 2328 \nQ 1056 1369 1301 889 \nQ 1547 409 2034 409 \nQ 2525 409 2770 889 \nQ 3016 1369 3016 2328 \nQ 3016 3291 2770 3770 \nQ 2525 4250 2034 4250 \nz\nM 2034 4750 \nQ 2819 4750 3233 4129 \nQ 3647 3509 3647 2328 \nQ 3647 1150 3233 529 \nQ 2819 -91 2034 -91 \nQ 1250 -91 836 529 \nQ 422 1150 422 2328 \nQ 422 3509 836 4129 \nQ 1250 4750 2034 4750 \nz\n\" transform=\"scale(0.015625)\"/>\n       </defs>\n       <use xlink:href=\"#DejaVuSans-35\"/>\n       <use xlink:href=\"#DejaVuSans-2e\" x=\"63.623047\"/>\n       <use xlink:href=\"#DejaVuSans-30\" x=\"95.410156\"/>\n      </g>\n     </g>\n    </g>\n    <g id=\"xtick_3\">\n     <g id=\"line2d_5\">\n      <path d=\"M 297.355757 554.599219 \nL 297.355757 10.999219 \n\" clip-path=\"url(#p1cce78bef9)\" style=\"fill: none; stroke: #b0b0b0; stroke-width: 0.8; stroke-linecap: square\"/>\n     </g>\n     <g id=\"line2d_6\">\n      <g>\n       <use xlink:href=\"#m23e2672bc9\" x=\"297.355757\" y=\"554.599219\" style=\"stroke: #000000; stroke-width: 0.8\"/>\n      </g>\n     </g>\n     <g id=\"text_3\">\n      <!-- 7.5 -->\n      <g transform=\"translate(289.404194 569.197656) scale(0.1 -0.1)\">\n       <defs>\n        <path id=\"DejaVuSans-37\" d=\"M 525 4666 \nL 3525 4666 \nL 3525 4397 \nL 1831 0 \nL 1172 0 \nL 2766 4134 \nL 525 4134 \nL 525 4666 \nz\n\" transform=\"scale(0.015625)\"/>\n       </defs>\n       <use xlink:href=\"#DejaVuSans-37\"/>\n       <use xlink:href=\"#DejaVuSans-2e\" x=\"63.623047\"/>\n       <use xlink:href=\"#DejaVuSans-35\" x=\"95.410156\"/>\n      </g>\n     </g>\n    </g>\n    <g id=\"xtick_4\">\n     <g id=\"line2d_7\">\n      <path d=\"M 400.14523 554.599219 \nL 400.14523 10.999219 \n\" clip-path=\"url(#p1cce78bef9)\" style=\"fill: none; stroke: #b0b0b0; stroke-width: 0.8; stroke-linecap: square\"/>\n     </g>\n     <g id=\"line2d_8\">\n      <g>\n       <use xlink:href=\"#m23e2672bc9\" x=\"400.14523\" y=\"554.599219\" style=\"stroke: #000000; stroke-width: 0.8\"/>\n      </g>\n     </g>\n     <g id=\"text_4\">\n      <!-- 10.0 -->\n      <g transform=\"translate(389.012418 569.197656) scale(0.1 -0.1)\">\n       <defs>\n        <path id=\"DejaVuSans-31\" d=\"M 794 531 \nL 1825 531 \nL 1825 4091 \nL 703 3866 \nL 703 4441 \nL 1819 4666 \nL 2450 4666 \nL 2450 531 \nL 3481 531 \nL 3481 0 \nL 794 0 \nL 794 531 \nz\n\" transform=\"scale(0.015625)\"/>\n       </defs>\n       <use xlink:href=\"#DejaVuSans-31\"/>\n       <use xlink:href=\"#DejaVuSans-30\" x=\"63.623047\"/>\n       <use xlink:href=\"#DejaVuSans-2e\" x=\"127.246094\"/>\n       <use xlink:href=\"#DejaVuSans-30\" x=\"159.033203\"/>\n      </g>\n     </g>\n    </g>\n    <g id=\"xtick_5\">\n     <g id=\"line2d_9\">\n      <path d=\"M 502.934704 554.599219 \nL 502.934704 10.999219 \n\" clip-path=\"url(#p1cce78bef9)\" style=\"fill: none; stroke: #b0b0b0; stroke-width: 0.8; stroke-linecap: square\"/>\n     </g>\n     <g id=\"line2d_10\">\n      <g>\n       <use xlink:href=\"#m23e2672bc9\" x=\"502.934704\" y=\"554.599219\" style=\"stroke: #000000; stroke-width: 0.8\"/>\n      </g>\n     </g>\n     <g id=\"text_5\">\n      <!-- 12.5 -->\n      <g transform=\"translate(491.801891 569.197656) scale(0.1 -0.1)\">\n       <use xlink:href=\"#DejaVuSans-31\"/>\n       <use xlink:href=\"#DejaVuSans-32\" x=\"63.623047\"/>\n       <use xlink:href=\"#DejaVuSans-2e\" x=\"127.246094\"/>\n       <use xlink:href=\"#DejaVuSans-35\" x=\"159.033203\"/>\n      </g>\n     </g>\n    </g>\n    <g id=\"xtick_6\">\n     <g id=\"line2d_11\">\n      <path d=\"M 605.724178 554.599219 \nL 605.724178 10.999219 \n\" clip-path=\"url(#p1cce78bef9)\" style=\"fill: none; stroke: #b0b0b0; stroke-width: 0.8; stroke-linecap: square\"/>\n     </g>\n     <g id=\"line2d_12\">\n      <g>\n       <use xlink:href=\"#m23e2672bc9\" x=\"605.724178\" y=\"554.599219\" style=\"stroke: #000000; stroke-width: 0.8\"/>\n      </g>\n     </g>\n     <g id=\"text_6\">\n      <!-- 15.0 -->\n      <g transform=\"translate(594.591365 569.197656) scale(0.1 -0.1)\">\n       <use xlink:href=\"#DejaVuSans-31\"/>\n       <use xlink:href=\"#DejaVuSans-35\" x=\"63.623047\"/>\n       <use xlink:href=\"#DejaVuSans-2e\" x=\"127.246094\"/>\n       <use xlink:href=\"#DejaVuSans-30\" x=\"159.033203\"/>\n      </g>\n     </g>\n    </g>\n    <g id=\"xtick_7\">\n     <g id=\"line2d_13\">\n      <path d=\"M 708.513651 554.599219 \nL 708.513651 10.999219 \n\" clip-path=\"url(#p1cce78bef9)\" style=\"fill: none; stroke: #b0b0b0; stroke-width: 0.8; stroke-linecap: square\"/>\n     </g>\n     <g id=\"line2d_14\">\n      <g>\n       <use xlink:href=\"#m23e2672bc9\" x=\"708.513651\" y=\"554.599219\" style=\"stroke: #000000; stroke-width: 0.8\"/>\n      </g>\n     </g>\n     <g id=\"text_7\">\n      <!-- 17.5 -->\n      <g transform=\"translate(697.380839 569.197656) scale(0.1 -0.1)\">\n       <use xlink:href=\"#DejaVuSans-31\"/>\n       <use xlink:href=\"#DejaVuSans-37\" x=\"63.623047\"/>\n       <use xlink:href=\"#DejaVuSans-2e\" x=\"127.246094\"/>\n       <use xlink:href=\"#DejaVuSans-35\" x=\"159.033203\"/>\n      </g>\n     </g>\n    </g>\n    <g id=\"xtick_8\">\n     <g id=\"line2d_15\">\n      <path d=\"M 811.303125 554.599219 \nL 811.303125 10.999219 \n\" clip-path=\"url(#p1cce78bef9)\" style=\"fill: none; stroke: #b0b0b0; stroke-width: 0.8; stroke-linecap: square\"/>\n     </g>\n     <g id=\"line2d_16\">\n      <g>\n       <use xlink:href=\"#m23e2672bc9\" x=\"811.303125\" y=\"554.599219\" style=\"stroke: #000000; stroke-width: 0.8\"/>\n      </g>\n     </g>\n     <g id=\"text_8\">\n      <!-- 20.0 -->\n      <g transform=\"translate(800.170312 569.197656) scale(0.1 -0.1)\">\n       <use xlink:href=\"#DejaVuSans-32\"/>\n       <use xlink:href=\"#DejaVuSans-30\" x=\"63.623047\"/>\n       <use xlink:href=\"#DejaVuSans-2e\" x=\"127.246094\"/>\n       <use xlink:href=\"#DejaVuSans-30\" x=\"159.033203\"/>\n      </g>\n     </g>\n    </g>\n    <g id=\"text_9\">\n     <!-- epoch -->\n     <g transform=\"translate(405.475 582.875781) scale(0.1 -0.1)\">\n      <defs>\n       <path id=\"DejaVuSans-65\" d=\"M 3597 1894 \nL 3597 1613 \nL 953 1613 \nQ 991 1019 1311 708 \nQ 1631 397 2203 397 \nQ 2534 397 2845 478 \nQ 3156 559 3463 722 \nL 3463 178 \nQ 3153 47 2828 -22 \nQ 2503 -91 2169 -91 \nQ 1331 -91 842 396 \nQ 353 884 353 1716 \nQ 353 2575 817 3079 \nQ 1281 3584 2069 3584 \nQ 2775 3584 3186 3129 \nQ 3597 2675 3597 1894 \nz\nM 3022 2063 \nQ 3016 2534 2758 2815 \nQ 2500 3097 2075 3097 \nQ 1594 3097 1305 2825 \nQ 1016 2553 972 2059 \nL 3022 2063 \nz\n\" transform=\"scale(0.015625)\"/>\n       <path id=\"DejaVuSans-70\" d=\"M 1159 525 \nL 1159 -1331 \nL 581 -1331 \nL 581 3500 \nL 1159 3500 \nL 1159 2969 \nQ 1341 3281 1617 3432 \nQ 1894 3584 2278 3584 \nQ 2916 3584 3314 3078 \nQ 3713 2572 3713 1747 \nQ 3713 922 3314 415 \nQ 2916 -91 2278 -91 \nQ 1894 -91 1617 61 \nQ 1341 213 1159 525 \nz\nM 3116 1747 \nQ 3116 2381 2855 2742 \nQ 2594 3103 2138 3103 \nQ 1681 3103 1420 2742 \nQ 1159 2381 1159 1747 \nQ 1159 1113 1420 752 \nQ 1681 391 2138 391 \nQ 2594 391 2855 752 \nQ 3116 1113 3116 1747 \nz\n\" transform=\"scale(0.015625)\"/>\n       <path id=\"DejaVuSans-6f\" d=\"M 1959 3097 \nQ 1497 3097 1228 2736 \nQ 959 2375 959 1747 \nQ 959 1119 1226 758 \nQ 1494 397 1959 397 \nQ 2419 397 2687 759 \nQ 2956 1122 2956 1747 \nQ 2956 2369 2687 2733 \nQ 2419 3097 1959 3097 \nz\nM 1959 3584 \nQ 2709 3584 3137 3096 \nQ 3566 2609 3566 1747 \nQ 3566 888 3137 398 \nQ 2709 -91 1959 -91 \nQ 1206 -91 779 398 \nQ 353 888 353 1747 \nQ 353 2609 779 3096 \nQ 1206 3584 1959 3584 \nz\n\" transform=\"scale(0.015625)\"/>\n       <path id=\"DejaVuSans-63\" d=\"M 3122 3366 \nL 3122 2828 \nQ 2878 2963 2633 3030 \nQ 2388 3097 2138 3097 \nQ 1578 3097 1268 2742 \nQ 959 2388 959 1747 \nQ 959 1106 1268 751 \nQ 1578 397 2138 397 \nQ 2388 397 2633 464 \nQ 2878 531 3122 666 \nL 3122 134 \nQ 2881 22 2623 -34 \nQ 2366 -91 2075 -91 \nQ 1284 -91 818 406 \nQ 353 903 353 1747 \nQ 353 2603 823 3093 \nQ 1294 3584 2113 3584 \nQ 2378 3584 2631 3529 \nQ 2884 3475 3122 3366 \nz\n\" transform=\"scale(0.015625)\"/>\n       <path id=\"DejaVuSans-68\" d=\"M 3513 2113 \nL 3513 0 \nL 2938 0 \nL 2938 2094 \nQ 2938 2591 2744 2837 \nQ 2550 3084 2163 3084 \nQ 1697 3084 1428 2787 \nQ 1159 2491 1159 1978 \nL 1159 0 \nL 581 0 \nL 581 4863 \nL 1159 4863 \nL 1159 2956 \nQ 1366 3272 1645 3428 \nQ 1925 3584 2291 3584 \nQ 2894 3584 3203 3211 \nQ 3513 2838 3513 2113 \nz\n\" transform=\"scale(0.015625)\"/>\n      </defs>\n      <use xlink:href=\"#DejaVuSans-65\"/>\n      <use xlink:href=\"#DejaVuSans-70\" x=\"61.523438\"/>\n      <use xlink:href=\"#DejaVuSans-6f\" x=\"125\"/>\n      <use xlink:href=\"#DejaVuSans-63\" x=\"186.181641\"/>\n      <use xlink:href=\"#DejaVuSans-68\" x=\"241.162109\"/>\n     </g>\n    </g>\n   </g>\n   <g id=\"matplotlib.axis_2\">\n    <g id=\"ytick_1\">\n     <g id=\"line2d_17\">\n      <path d=\"M 30.103125 554.599219 \nL 811.303125 554.599219 \n\" clip-path=\"url(#p1cce78bef9)\" style=\"fill: none; stroke: #b0b0b0; stroke-width: 0.8; stroke-linecap: square\"/>\n     </g>\n     <g id=\"line2d_18\">\n      <defs>\n       <path id=\"mca7498fc10\" d=\"M 0 0 \nL -3.5 0 \n\" style=\"stroke: #000000; stroke-width: 0.8\"/>\n      </defs>\n      <g>\n       <use xlink:href=\"#mca7498fc10\" x=\"30.103125\" y=\"554.599219\" style=\"stroke: #000000; stroke-width: 0.8\"/>\n      </g>\n     </g>\n     <g id=\"text_10\">\n      <!-- 0.0 -->\n      <g transform=\"translate(7.2 558.398438) scale(0.1 -0.1)\">\n       <use xlink:href=\"#DejaVuSans-30\"/>\n       <use xlink:href=\"#DejaVuSans-2e\" x=\"63.623047\"/>\n       <use xlink:href=\"#DejaVuSans-30\" x=\"95.410156\"/>\n      </g>\n     </g>\n    </g>\n    <g id=\"ytick_2\">\n     <g id=\"line2d_19\">\n      <path d=\"M 30.103125 445.879219 \nL 811.303125 445.879219 \n\" clip-path=\"url(#p1cce78bef9)\" style=\"fill: none; stroke: #b0b0b0; stroke-width: 0.8; stroke-linecap: square\"/>\n     </g>\n     <g id=\"line2d_20\">\n      <g>\n       <use xlink:href=\"#mca7498fc10\" x=\"30.103125\" y=\"445.879219\" style=\"stroke: #000000; stroke-width: 0.8\"/>\n      </g>\n     </g>\n     <g id=\"text_11\">\n      <!-- 0.2 -->\n      <g transform=\"translate(7.2 449.678437) scale(0.1 -0.1)\">\n       <use xlink:href=\"#DejaVuSans-30\"/>\n       <use xlink:href=\"#DejaVuSans-2e\" x=\"63.623047\"/>\n       <use xlink:href=\"#DejaVuSans-32\" x=\"95.410156\"/>\n      </g>\n     </g>\n    </g>\n    <g id=\"ytick_3\">\n     <g id=\"line2d_21\">\n      <path d=\"M 30.103125 337.159219 \nL 811.303125 337.159219 \n\" clip-path=\"url(#p1cce78bef9)\" style=\"fill: none; stroke: #b0b0b0; stroke-width: 0.8; stroke-linecap: square\"/>\n     </g>\n     <g id=\"line2d_22\">\n      <g>\n       <use xlink:href=\"#mca7498fc10\" x=\"30.103125\" y=\"337.159219\" style=\"stroke: #000000; stroke-width: 0.8\"/>\n      </g>\n     </g>\n     <g id=\"text_12\">\n      <!-- 0.4 -->\n      <g transform=\"translate(7.2 340.958437) scale(0.1 -0.1)\">\n       <defs>\n        <path id=\"DejaVuSans-34\" d=\"M 2419 4116 \nL 825 1625 \nL 2419 1625 \nL 2419 4116 \nz\nM 2253 4666 \nL 3047 4666 \nL 3047 1625 \nL 3713 1625 \nL 3713 1100 \nL 3047 1100 \nL 3047 0 \nL 2419 0 \nL 2419 1100 \nL 313 1100 \nL 313 1709 \nL 2253 4666 \nz\n\" transform=\"scale(0.015625)\"/>\n       </defs>\n       <use xlink:href=\"#DejaVuSans-30\"/>\n       <use xlink:href=\"#DejaVuSans-2e\" x=\"63.623047\"/>\n       <use xlink:href=\"#DejaVuSans-34\" x=\"95.410156\"/>\n      </g>\n     </g>\n    </g>\n    <g id=\"ytick_4\">\n     <g id=\"line2d_23\">\n      <path d=\"M 30.103125 228.439219 \nL 811.303125 228.439219 \n\" clip-path=\"url(#p1cce78bef9)\" style=\"fill: none; stroke: #b0b0b0; stroke-width: 0.8; stroke-linecap: square\"/>\n     </g>\n     <g id=\"line2d_24\">\n      <g>\n       <use xlink:href=\"#mca7498fc10\" x=\"30.103125\" y=\"228.439219\" style=\"stroke: #000000; stroke-width: 0.8\"/>\n      </g>\n     </g>\n     <g id=\"text_13\">\n      <!-- 0.6 -->\n      <g transform=\"translate(7.2 232.238437) scale(0.1 -0.1)\">\n       <defs>\n        <path id=\"DejaVuSans-36\" d=\"M 2113 2584 \nQ 1688 2584 1439 2293 \nQ 1191 2003 1191 1497 \nQ 1191 994 1439 701 \nQ 1688 409 2113 409 \nQ 2538 409 2786 701 \nQ 3034 994 3034 1497 \nQ 3034 2003 2786 2293 \nQ 2538 2584 2113 2584 \nz\nM 3366 4563 \nL 3366 3988 \nQ 3128 4100 2886 4159 \nQ 2644 4219 2406 4219 \nQ 1781 4219 1451 3797 \nQ 1122 3375 1075 2522 \nQ 1259 2794 1537 2939 \nQ 1816 3084 2150 3084 \nQ 2853 3084 3261 2657 \nQ 3669 2231 3669 1497 \nQ 3669 778 3244 343 \nQ 2819 -91 2113 -91 \nQ 1303 -91 875 529 \nQ 447 1150 447 2328 \nQ 447 3434 972 4092 \nQ 1497 4750 2381 4750 \nQ 2619 4750 2861 4703 \nQ 3103 4656 3366 4563 \nz\n\" transform=\"scale(0.015625)\"/>\n       </defs>\n       <use xlink:href=\"#DejaVuSans-30\"/>\n       <use xlink:href=\"#DejaVuSans-2e\" x=\"63.623047\"/>\n       <use xlink:href=\"#DejaVuSans-36\" x=\"95.410156\"/>\n      </g>\n     </g>\n    </g>\n    <g id=\"ytick_5\">\n     <g id=\"line2d_25\">\n      <path d=\"M 30.103125 119.719219 \nL 811.303125 119.719219 \n\" clip-path=\"url(#p1cce78bef9)\" style=\"fill: none; stroke: #b0b0b0; stroke-width: 0.8; stroke-linecap: square\"/>\n     </g>\n     <g id=\"line2d_26\">\n      <g>\n       <use xlink:href=\"#mca7498fc10\" x=\"30.103125\" y=\"119.719219\" style=\"stroke: #000000; stroke-width: 0.8\"/>\n      </g>\n     </g>\n     <g id=\"text_14\">\n      <!-- 0.8 -->\n      <g transform=\"translate(7.2 123.518437) scale(0.1 -0.1)\">\n       <defs>\n        <path id=\"DejaVuSans-38\" d=\"M 2034 2216 \nQ 1584 2216 1326 1975 \nQ 1069 1734 1069 1313 \nQ 1069 891 1326 650 \nQ 1584 409 2034 409 \nQ 2484 409 2743 651 \nQ 3003 894 3003 1313 \nQ 3003 1734 2745 1975 \nQ 2488 2216 2034 2216 \nz\nM 1403 2484 \nQ 997 2584 770 2862 \nQ 544 3141 544 3541 \nQ 544 4100 942 4425 \nQ 1341 4750 2034 4750 \nQ 2731 4750 3128 4425 \nQ 3525 4100 3525 3541 \nQ 3525 3141 3298 2862 \nQ 3072 2584 2669 2484 \nQ 3125 2378 3379 2068 \nQ 3634 1759 3634 1313 \nQ 3634 634 3220 271 \nQ 2806 -91 2034 -91 \nQ 1263 -91 848 271 \nQ 434 634 434 1313 \nQ 434 1759 690 2068 \nQ 947 2378 1403 2484 \nz\nM 1172 3481 \nQ 1172 3119 1398 2916 \nQ 1625 2713 2034 2713 \nQ 2441 2713 2670 2916 \nQ 2900 3119 2900 3481 \nQ 2900 3844 2670 4047 \nQ 2441 4250 2034 4250 \nQ 1625 4250 1398 4047 \nQ 1172 3844 1172 3481 \nz\n\" transform=\"scale(0.015625)\"/>\n       </defs>\n       <use xlink:href=\"#DejaVuSans-30\"/>\n       <use xlink:href=\"#DejaVuSans-2e\" x=\"63.623047\"/>\n       <use xlink:href=\"#DejaVuSans-38\" x=\"95.410156\"/>\n      </g>\n     </g>\n    </g>\n    <g id=\"ytick_6\">\n     <g id=\"line2d_27\">\n      <path d=\"M 30.103125 10.999219 \nL 811.303125 10.999219 \n\" clip-path=\"url(#p1cce78bef9)\" style=\"fill: none; stroke: #b0b0b0; stroke-width: 0.8; stroke-linecap: square\"/>\n     </g>\n     <g id=\"line2d_28\">\n      <g>\n       <use xlink:href=\"#mca7498fc10\" x=\"30.103125\" y=\"10.999219\" style=\"stroke: #000000; stroke-width: 0.8\"/>\n      </g>\n     </g>\n     <g id=\"text_15\">\n      <!-- 1.0 -->\n      <g transform=\"translate(7.2 14.798437) scale(0.1 -0.1)\">\n       <use xlink:href=\"#DejaVuSans-31\"/>\n       <use xlink:href=\"#DejaVuSans-2e\" x=\"63.623047\"/>\n       <use xlink:href=\"#DejaVuSans-30\" x=\"95.410156\"/>\n      </g>\n     </g>\n    </g>\n   </g>\n   <g id=\"line2d_29\">\n    <path clip-path=\"url(#p1cce78bef9)\" style=\"fill: none; stroke: #1f77b4; stroke-width: 1.5; stroke-linecap: square\"/>\n   </g>\n   <g id=\"line2d_30\">\n    <path d=\"M 30.103125 434.050483 \nL 71.218914 379.799203 \nL 112.334704 336.311203 \n\" clip-path=\"url(#p1cce78bef9)\" style=\"fill: none; stroke-dasharray: 5.55,2.4; stroke-dashoffset: 0; stroke: #bf00bf; stroke-width: 1.5\"/>\n   </g>\n   <g id=\"line2d_31\">\n    <path d=\"M 30.103125 386.083219 \nL 71.218914 348.303019 \nL 112.334704 322.373299 \n\" clip-path=\"url(#p1cce78bef9)\" style=\"fill: none; stroke-dasharray: 9.6,2.4,1.5,2.4; stroke-dashoffset: 0; stroke: #008000; stroke-width: 1.5\"/>\n   </g>\n   <g id=\"patch_3\">\n    <path d=\"M 30.103125 554.599219 \nL 30.103125 10.999219 \n\" style=\"fill: none; stroke: #000000; stroke-width: 0.8; stroke-linejoin: miter; stroke-linecap: square\"/>\n   </g>\n   <g id=\"patch_4\">\n    <path d=\"M 811.303125 554.599219 \nL 811.303125 10.999219 \n\" style=\"fill: none; stroke: #000000; stroke-width: 0.8; stroke-linejoin: miter; stroke-linecap: square\"/>\n   </g>\n   <g id=\"patch_5\">\n    <path d=\"M 30.103125 554.599219 \nL 811.303125 554.599219 \n\" style=\"fill: none; stroke: #000000; stroke-width: 0.8; stroke-linejoin: miter; stroke-linecap: square\"/>\n   </g>\n   <g id=\"patch_6\">\n    <path d=\"M 30.103125 10.999219 \nL 811.303125 10.999219 \n\" style=\"fill: none; stroke: #000000; stroke-width: 0.8; stroke-linejoin: miter; stroke-linecap: square\"/>\n   </g>\n   <g id=\"legend_1\">\n    <g id=\"patch_7\">\n     <path d=\"M 726.534375 63.033594 \nL 804.303125 63.033594 \nQ 806.303125 63.033594 806.303125 61.033594 \nL 806.303125 17.999219 \nQ 806.303125 15.999219 804.303125 15.999219 \nL 726.534375 15.999219 \nQ 724.534375 15.999219 724.534375 17.999219 \nL 724.534375 61.033594 \nQ 724.534375 63.033594 726.534375 63.033594 \nz\n\" style=\"fill: #ffffff; opacity: 0.8; stroke: #cccccc; stroke-linejoin: miter\"/>\n    </g>\n    <g id=\"line2d_32\">\n     <path d=\"M 728.534375 24.097656 \nL 738.534375 24.097656 \nL 748.534375 24.097656 \n\" style=\"fill: none; stroke: #1f77b4; stroke-width: 1.5; stroke-linecap: square\"/>\n    </g>\n    <g id=\"text_16\">\n     <!-- train loss -->\n     <g transform=\"translate(756.534375 27.597656) scale(0.1 -0.1)\">\n      <defs>\n       <path id=\"DejaVuSans-74\" d=\"M 1172 4494 \nL 1172 3500 \nL 2356 3500 \nL 2356 3053 \nL 1172 3053 \nL 1172 1153 \nQ 1172 725 1289 603 \nQ 1406 481 1766 481 \nL 2356 481 \nL 2356 0 \nL 1766 0 \nQ 1100 0 847 248 \nQ 594 497 594 1153 \nL 594 3053 \nL 172 3053 \nL 172 3500 \nL 594 3500 \nL 594 4494 \nL 1172 4494 \nz\n\" transform=\"scale(0.015625)\"/>\n       <path id=\"DejaVuSans-72\" d=\"M 2631 2963 \nQ 2534 3019 2420 3045 \nQ 2306 3072 2169 3072 \nQ 1681 3072 1420 2755 \nQ 1159 2438 1159 1844 \nL 1159 0 \nL 581 0 \nL 581 3500 \nL 1159 3500 \nL 1159 2956 \nQ 1341 3275 1631 3429 \nQ 1922 3584 2338 3584 \nQ 2397 3584 2469 3576 \nQ 2541 3569 2628 3553 \nL 2631 2963 \nz\n\" transform=\"scale(0.015625)\"/>\n       <path id=\"DejaVuSans-61\" d=\"M 2194 1759 \nQ 1497 1759 1228 1600 \nQ 959 1441 959 1056 \nQ 959 750 1161 570 \nQ 1363 391 1709 391 \nQ 2188 391 2477 730 \nQ 2766 1069 2766 1631 \nL 2766 1759 \nL 2194 1759 \nz\nM 3341 1997 \nL 3341 0 \nL 2766 0 \nL 2766 531 \nQ 2569 213 2275 61 \nQ 1981 -91 1556 -91 \nQ 1019 -91 701 211 \nQ 384 513 384 1019 \nQ 384 1609 779 1909 \nQ 1175 2209 1959 2209 \nL 2766 2209 \nL 2766 2266 \nQ 2766 2663 2505 2880 \nQ 2244 3097 1772 3097 \nQ 1472 3097 1187 3025 \nQ 903 2953 641 2809 \nL 641 3341 \nQ 956 3463 1253 3523 \nQ 1550 3584 1831 3584 \nQ 2591 3584 2966 3190 \nQ 3341 2797 3341 1997 \nz\n\" transform=\"scale(0.015625)\"/>\n       <path id=\"DejaVuSans-69\" d=\"M 603 3500 \nL 1178 3500 \nL 1178 0 \nL 603 0 \nL 603 3500 \nz\nM 603 4863 \nL 1178 4863 \nL 1178 4134 \nL 603 4134 \nL 603 4863 \nz\n\" transform=\"scale(0.015625)\"/>\n       <path id=\"DejaVuSans-6e\" d=\"M 3513 2113 \nL 3513 0 \nL 2938 0 \nL 2938 2094 \nQ 2938 2591 2744 2837 \nQ 2550 3084 2163 3084 \nQ 1697 3084 1428 2787 \nQ 1159 2491 1159 1978 \nL 1159 0 \nL 581 0 \nL 581 3500 \nL 1159 3500 \nL 1159 2956 \nQ 1366 3272 1645 3428 \nQ 1925 3584 2291 3584 \nQ 2894 3584 3203 3211 \nQ 3513 2838 3513 2113 \nz\n\" transform=\"scale(0.015625)\"/>\n       <path id=\"DejaVuSans-20\" transform=\"scale(0.015625)\"/>\n       <path id=\"DejaVuSans-6c\" d=\"M 603 4863 \nL 1178 4863 \nL 1178 0 \nL 603 0 \nL 603 4863 \nz\n\" transform=\"scale(0.015625)\"/>\n       <path id=\"DejaVuSans-73\" d=\"M 2834 3397 \nL 2834 2853 \nQ 2591 2978 2328 3040 \nQ 2066 3103 1784 3103 \nQ 1356 3103 1142 2972 \nQ 928 2841 928 2578 \nQ 928 2378 1081 2264 \nQ 1234 2150 1697 2047 \nL 1894 2003 \nQ 2506 1872 2764 1633 \nQ 3022 1394 3022 966 \nQ 3022 478 2636 193 \nQ 2250 -91 1575 -91 \nQ 1294 -91 989 -36 \nQ 684 19 347 128 \nL 347 722 \nQ 666 556 975 473 \nQ 1284 391 1588 391 \nQ 1994 391 2212 530 \nQ 2431 669 2431 922 \nQ 2431 1156 2273 1281 \nQ 2116 1406 1581 1522 \nL 1381 1569 \nQ 847 1681 609 1914 \nQ 372 2147 372 2553 \nQ 372 3047 722 3315 \nQ 1072 3584 1716 3584 \nQ 2034 3584 2315 3537 \nQ 2597 3491 2834 3397 \nz\n\" transform=\"scale(0.015625)\"/>\n      </defs>\n      <use xlink:href=\"#DejaVuSans-74\"/>\n      <use xlink:href=\"#DejaVuSans-72\" x=\"39.208984\"/>\n      <use xlink:href=\"#DejaVuSans-61\" x=\"80.322266\"/>\n      <use xlink:href=\"#DejaVuSans-69\" x=\"141.601562\"/>\n      <use xlink:href=\"#DejaVuSans-6e\" x=\"169.384766\"/>\n      <use xlink:href=\"#DejaVuSans-20\" x=\"232.763672\"/>\n      <use xlink:href=\"#DejaVuSans-6c\" x=\"264.550781\"/>\n      <use xlink:href=\"#DejaVuSans-6f\" x=\"292.333984\"/>\n      <use xlink:href=\"#DejaVuSans-73\" x=\"353.515625\"/>\n      <use xlink:href=\"#DejaVuSans-73\" x=\"405.615234\"/>\n     </g>\n    </g>\n    <g id=\"line2d_33\">\n     <path d=\"M 728.534375 38.775781 \nL 738.534375 38.775781 \nL 748.534375 38.775781 \n\" style=\"fill: none; stroke-dasharray: 5.55,2.4; stroke-dashoffset: 0; stroke: #bf00bf; stroke-width: 1.5\"/>\n    </g>\n    <g id=\"text_17\">\n     <!-- train acc -->\n     <g transform=\"translate(756.534375 42.275781) scale(0.1 -0.1)\">\n      <use xlink:href=\"#DejaVuSans-74\"/>\n      <use xlink:href=\"#DejaVuSans-72\" x=\"39.208984\"/>\n      <use xlink:href=\"#DejaVuSans-61\" x=\"80.322266\"/>\n      <use xlink:href=\"#DejaVuSans-69\" x=\"141.601562\"/>\n      <use xlink:href=\"#DejaVuSans-6e\" x=\"169.384766\"/>\n      <use xlink:href=\"#DejaVuSans-20\" x=\"232.763672\"/>\n      <use xlink:href=\"#DejaVuSans-61\" x=\"264.550781\"/>\n      <use xlink:href=\"#DejaVuSans-63\" x=\"325.830078\"/>\n      <use xlink:href=\"#DejaVuSans-63\" x=\"380.810547\"/>\n     </g>\n    </g>\n    <g id=\"line2d_34\">\n     <path d=\"M 728.534375 53.453906 \nL 738.534375 53.453906 \nL 748.534375 53.453906 \n\" style=\"fill: none; stroke-dasharray: 9.6,2.4,1.5,2.4; stroke-dashoffset: 0; stroke: #008000; stroke-width: 1.5\"/>\n    </g>\n    <g id=\"text_18\">\n     <!-- test acc -->\n     <g transform=\"translate(756.534375 56.953906) scale(0.1 -0.1)\">\n      <use xlink:href=\"#DejaVuSans-74\"/>\n      <use xlink:href=\"#DejaVuSans-65\" x=\"39.208984\"/>\n      <use xlink:href=\"#DejaVuSans-73\" x=\"100.732422\"/>\n      <use xlink:href=\"#DejaVuSans-74\" x=\"152.832031\"/>\n      <use xlink:href=\"#DejaVuSans-20\" x=\"192.041016\"/>\n      <use xlink:href=\"#DejaVuSans-61\" x=\"223.828125\"/>\n      <use xlink:href=\"#DejaVuSans-63\" x=\"285.107422\"/>\n      <use xlink:href=\"#DejaVuSans-63\" x=\"340.087891\"/>\n     </g>\n    </g>\n   </g>\n  </g>\n </g>\n <defs>\n  <clipPath id=\"p1cce78bef9\">\n   <rect x=\"30.103125\" y=\"10.999219\" width=\"781.2\" height=\"543.6\"/>\n  </clipPath>\n </defs>\n</svg>\n"
          },
          "metadata": {}
        }
      ]
    },
    {
      "cell_type": "code",
      "source": [
        "class LeNet1(torch.nn.Module):\n",
        "    def __init__(self, num_inputs=3, num_outputs=10):\n",
        "        super(LeNet1, self).__init__()\n",
        "        # self.num_inputs = num_inputs\n",
        "        # self.num_outputs = num_outputs\n",
        "\n",
        "        self.Convl1 = nn.Conv2d(num_inputs, 6, kernel_size = 5)\n",
        "        self.relu = nn.ReLU()\n",
        "        self.Avg1 = nn.AvgPool2d(2, stride=2)\n",
        "        self.Convl2 = nn.Conv2d(6,16,kernel_size = 5)\n",
        "        self.Avg2 = nn.AvgPool2d(2, stride=2)\n",
        "        self.Fltn = nn.Flatten()\n",
        "        self.Linear1 = nn.Linear(400, 120)\n",
        "        self.Linear2 = nn.Linear(120, 84)\n",
        "        self.Linear3 = nn.Linear(84, num_outputs)\n",
        "    def forward(self, x):\n",
        "        out = self.Convl1(x)\n",
        "        out = self.relu(out)\n",
        "        out = self.Avg1(out)\n",
        "        out = self.Convl2(out)\n",
        "        out = self.relu(out)\n",
        "        out = self.Avg2(out)\n",
        "        #out = self.relu(out)\n",
        "        out = self.Fltn(out)\n",
        "        # print(out.shape)\n",
        "        out = self.Linear1(out)\n",
        "        out = self.relu(out)\n",
        "        out = self.Linear2(out)\n",
        "        out = self.relu(out)\n",
        "        out = self.Linear3(out)\n",
        "        # out = self.relu(out)\n",
        "        return out"
      ],
      "metadata": {
        "id": "XHmhE_ZlC4h-"
      },
      "id": "XHmhE_ZlC4h-",
      "execution_count": null,
      "outputs": []
    },
    {
      "cell_type": "code",
      "source": [
        "# debug = False\n",
        "input_channels = 3\n",
        "num_outputs = 10\n",
        "modelKK = LeNet1()\n",
        "\n",
        "modelL1.apply(init_weights);\n",
        "print(modelL1)\n",
        "\n",
        "loss = nn.CrossEntropyLoss()\n",
        "lr = 0.1\n",
        "optimizer = torch.optim.SGD(modelL1.parameters(), lr=lr)\n",
        "\n",
        "num_epochs = 20\n",
        "mu.train_ch3(modelL1, trainDL, testDL, loss, num_epochs, optimizer)"
      ],
      "metadata": {
        "id": "ftelSPaAQn8I"
      },
      "id": "ftelSPaAQn8I",
      "execution_count": null,
      "outputs": []
    },
    {
      "cell_type": "code",
      "source": [
        "class LeNet(nn.Module):\n",
        "    def __init__(self, num_classes=10):\n",
        "        super().__init__()\n",
        "        self.conv1 = nn.Conv2d(3, 6, kernel_size=5)\n",
        "        self.avgpool1 = nn.AvgPool2d(kernel_size=2, stride=2)\n",
        "        self.conv2 = nn.Conv2d(6, 16, kernel_size=5)\n",
        "        self.avgpool2 = nn.AvgPool2d(kernel_size=2, stride=2)\n",
        "        self.fc1 = nn.Linear(16 * 5 * 5, 120)\n",
        "        self.fc2 = nn.Linear(120, 84)\n",
        "        self.fc3 = nn.Linear(84, num_classes)\n",
        "\n",
        "    def forward(self, x):\n",
        "        x = self.avgpool1(torch.relu(self.conv1(x)))\n",
        "        x = self.avgpool2(torch.relu(self.conv2(x)))\n",
        "        x = x.view(-1, 16 * 5 * 5)\n",
        "        x = torch.relu(self.fc1(x))\n",
        "        x = torch.relu(self.fc2(x))\n",
        "        x = self.fc3(x)\n",
        "        return x"
      ],
      "metadata": {
        "id": "JYEUxQ3BJC3d"
      },
      "id": "JYEUxQ3BJC3d",
      "execution_count": null,
      "outputs": []
    },
    {
      "cell_type": "code",
      "execution_count": null,
      "metadata": {
        "id": "0EMOB9QljoGX"
      },
      "outputs": [],
      "source": [
        "def init_weights(m):\n",
        "    if type(m) == nn.Linear or type(m) == nn.Conv2d: # by checking thr type we can init different layers in different ways\n",
        "        torch.nn.init.xavier_uniform_(m.weight)          \n",
        "\n",
        "input_channels = 3\n",
        "num_outputs = 10\n",
        "model = LeNet()\n",
        "\n",
        "model.apply(init_weights);\n",
        "print(model)"
      ],
      "id": "0EMOB9QljoGX"
    },
    {
      "cell_type": "markdown",
      "metadata": {
        "id": "f263c98a"
      },
      "source": [
        "----------\n",
        "# Loss Function & optimizer"
      ],
      "id": "f263c98a"
    },
    {
      "cell_type": "code",
      "execution_count": null,
      "metadata": {
        "id": "50a78ceb"
      },
      "outputs": [],
      "source": [
        "loss = nn.CrossEntropyLoss()\n",
        "lr = 0.1\n",
        "optimizer = torch.optim.SGD(model.parameters(), lr=lr)"
      ],
      "id": "50a78ceb"
    },
    {
      "cell_type": "markdown",
      "metadata": {
        "id": "e24a299a"
      },
      "source": [
        "----------\n",
        "# Training"
      ],
      "id": "e24a299a"
    },
    {
      "cell_type": "code",
      "execution_count": null,
      "metadata": {
        "id": "xk_xzxKr0Obu"
      },
      "outputs": [],
      "source": [
        "debug = False\n",
        "\n",
        "num_epochs = 20\n",
        "mu.train_ch3(model, trainDL, testDL, loss, num_epochs, optimizer)"
      ],
      "id": "xk_xzxKr0Obu"
    },
    {
      "cell_type": "markdown",
      "metadata": {
        "id": "1db96683"
      },
      "source": [
        "----------\n",
        "# Evaluation"
      ],
      "id": "1db96683"
    },
    {
      "cell_type": "code",
      "execution_count": null,
      "metadata": {
        "id": "0jE-sBD4jW6P"
      },
      "outputs": [],
      "source": [],
      "id": "0jE-sBD4jW6P"
    },
    {
      "cell_type": "code",
      "execution_count": null,
      "metadata": {
        "id": "DEQ0kgzujeAq"
      },
      "outputs": [],
      "source": [],
      "id": "DEQ0kgzujeAq"
    },
    {
      "cell_type": "markdown",
      "metadata": {
        "id": "YAfdZNd-jXX6"
      },
      "source": [
        "--------\n",
        "# Scratch Testing"
      ],
      "id": "YAfdZNd-jXX6"
    },
    {
      "cell_type": "markdown",
      "metadata": {
        "id": "qo6nkup_1enV"
      },
      "source": [
        "## Shape testing"
      ],
      "id": "qo6nkup_1enV"
    },
    {
      "cell_type": "markdown",
      "metadata": {
        "id": "vLqIotaE1hE5"
      },
      "source": [
        "## Deployemnt test"
      ],
      "id": "vLqIotaE1hE5"
    },
    {
      "cell_type": "code",
      "execution_count": null,
      "metadata": {
        "id": "300bc559"
      },
      "outputs": [],
      "source": [
        "# !pip install init\n",
        "# import tarfile, pickle\n",
        "# # from init import *\n",
        "# from google.colab import drive\n",
        "\n",
        "# drive.mount('/content/drive/')\n",
        "\n",
        "# tar_file = tarfile.open(\"/content/drive/My Drive/cifar-10-python.tar.gz\", 'r:gz')"
      ],
      "id": "300bc559"
    },
    {
      "cell_type": "code",
      "execution_count": null,
      "metadata": {
        "id": "QPHZ5wS51VXt"
      },
      "outputs": [],
      "source": [
        "# testX2= torch.from_numpy(testX[0:, :, :, :]).to(torch.float32)\n",
        "# testy2 = torch.from_numpy(testy[0:]).to(torch.int64)\n",
        "\n",
        "# print(testy2.size())\n",
        "\n",
        "# testDS2 = TensorDataset(testX2,testy2)\n",
        "# testDL2 = DataLoader(testDS2) \n",
        "\n",
        "# iter_a = iter(testDL2)\n",
        "\n",
        "# t = 0\n",
        "# x = 0\n",
        "\n",
        "# for _ in range(9500):\n",
        "\n",
        "#   X_test, y_test = next(iter_a)\n",
        "#   op = net.forward(X_test)\n",
        "\n",
        "#   _, y_hat = op.max(1)\n",
        "  \n",
        "#   a = y_hat[0] == y_test[0][0]\n",
        "#   t = t+1\n",
        "\n",
        "#   if a:\n",
        "#     x = x+1\n",
        "\n",
        "# print(t, x)"
      ],
      "id": "QPHZ5wS51VXt"
    },
    {
      "cell_type": "markdown",
      "metadata": {
        "id": "pa8wRWR81ZdA"
      },
      "source": [
        "## Alternate Dataset loading"
      ],
      "id": "pa8wRWR81ZdA"
    },
    {
      "cell_type": "code",
      "execution_count": null,
      "metadata": {
        "id": "3eecb7e9"
      },
      "outputs": [],
      "source": [
        "# from matplotlib import pyplot\n",
        "# from keras.datasets import cifar10\n",
        "# # load dataset\n",
        "# (trainX, trainy), (testX, testy) = cifar10.load_data()\n",
        "# # trainX = trainX.transpose(0,1)\n",
        "# # testX = testX.transpose(1,3)\n",
        "# # summarize loaded dataset\n",
        "# print('Train: X=%s, y=%s' % (trainX.shape, trainy.shape))\n",
        "# print('Test: X=%s, y=%s' % (testX.shape, testy.shape))\n",
        "# # plot first few images\n",
        "\n",
        "# for i in range(9):\n",
        "#     pyplot.subplot(330 + 1 + i)\n",
        "#     pyplot.imshow(trainX[i])\n",
        "\n",
        "# pyplot.show()"
      ],
      "id": "3eecb7e9"
    },
    {
      "cell_type": "code",
      "execution_count": null,
      "metadata": {
        "id": "fb0af928",
        "scrolled": true
      },
      "outputs": [],
      "source": [
        "# # print(trainX)\n",
        "# trainX1 = torch.from_numpy(trainX[0:, :, :, :]).to(torch.float32)\n",
        "# trainy1 = torch.from_numpy(trainy[0:]).to(torch.int64)\n",
        "# trainy1 = trainy1.T[0]\n",
        "# testX1 = torch.from_numpy(testX[0:, :, :, :]).to(torch.float32)\n",
        "# testy1 = torch.from_numpy(testy[0:]).to(torch.int64)\n",
        "\n",
        "# print(trainX1.size())\n",
        "# print(trainy1)"
      ],
      "id": "fb0af928"
    },
    {
      "cell_type": "code",
      "execution_count": null,
      "metadata": {
        "id": "1d9a2dff"
      },
      "outputs": [],
      "source": [
        "# from torch.utils.data import TensorDataset, DataLoader\n",
        "\n",
        "# batch_size = 256\n",
        "\n",
        "# trainDS = TensorDataset(trainX1,trainy1) # create your datset\n",
        "# testDS = TensorDataset(testX1,testy1) # create your datset\n",
        "# trainDL = DataLoader(trainDS, batch_size=batch_size) # create your dataloader\n",
        "# testDL = DataLoader(testDS, batch_size=batch_size) # create your dataloader"
      ],
      "id": "1d9a2dff"
    },
    {
      "cell_type": "code",
      "execution_count": null,
      "metadata": {
        "id": "ef56f8f3"
      },
      "outputs": [],
      "source": [
        "# X, y = next(iter(trainDL))\n",
        "# print(X.size())\n",
        "# print(y)"
      ],
      "id": "ef56f8f3"
    }
  ],
  "metadata": {
    "colab": {
      "provenance": []
    },
    "kernelspec": {
      "display_name": "ml",
      "language": "python",
      "name": "ml"
    },
    "language_info": {
      "codemirror_mode": {
        "name": "ipython",
        "version": 3
      },
      "file_extension": ".py",
      "mimetype": "text/x-python",
      "name": "python",
      "nbconvert_exporter": "python",
      "pygments_lexer": "ipython3",
      "version": "3.10.4"
    }
  },
  "nbformat": 4,
  "nbformat_minor": 5
}